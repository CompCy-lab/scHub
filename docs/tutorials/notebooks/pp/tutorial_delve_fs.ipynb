{
 "cells": [
  {
   "cell_type": "code",
   "execution_count": 1,
   "id": "6e603f81-c87a-4229-8d14-f1fcabb214fd",
   "metadata": {},
   "outputs": [],
   "source": [
    "# Note: this notebook is adapted from https://github.com/jranek/delve_benchmark/blob/main/notebooks/RPE_notebook.ipynb\n",
    "%matplotlib inline"
   ]
  },
  {
   "cell_type": "code",
   "execution_count": 2,
   "id": "d7b8b894-7ca1-40ca-9675-59c48a2e7938",
   "metadata": {},
   "outputs": [],
   "source": [
    "# Uncomment and run this cell if you're on Colab or Kaggle\n",
    "# !pip install schub phate statannotations"
   ]
  },
  {
   "cell_type": "markdown",
   "id": "1c336ecc-38d4-4fd1-9b9a-653a4fc0f4f3",
   "metadata": {},
   "source": [
    "# Delve Feature Selection for inferring RPE cell cycle trajectories"
   ]
  },
  {
   "cell_type": "markdown",
   "id": "b6598c23-fba3-4743-aeeb-7ba7c5ee03b8",
   "metadata": {},
   "source": [
    "This tutorial shows about how to use delve {cite}`delve2024` to perform the feature selection for **inferring RPE cell cycle trajectories**.\n",
    "\n",
    "To run this notebook, you need to first download the `RPE` dataset from this <a href=\"https://github.com/jranek/delve/blob/main/data/adata_RPE.h5ad\">link</a>, and put the downloaded to an appropriate path so that the script below can succussfully read it."
   ]
  },
  {
   "cell_type": "code",
   "execution_count": 3,
   "id": "57f2999a-b128-49af-a823-9bd0a183264d",
   "metadata": {},
   "outputs": [
    {
     "name": "stderr",
     "output_type": "stream",
     "text": [
      "/home/haidyi/Documents/proj/scHub/.sphinx/lib/python3.9/site-packages/tqdm/auto.py:21: TqdmWarning: IProgress not found. Please update jupyter and ipywidgets. See https://ipywidgets.readthedocs.io/en/stable/user_install.html\n",
      "  from .autonotebook import tqdm as notebook_tqdm\n"
     ]
    }
   ],
   "source": [
    "import os\n",
    "import pandas as pd\n",
    "import scanpy as sc\n",
    "import schub\n",
    "\n",
    "import os.path as osp\n",
    "from pathlib import Path\n",
    "\n",
    "adata_directory = osp.join(osp.dirname(osp.abspath(\"__file__\")), \"../../_data\") # may need to change to the correct path for the downloaded data\n",
    "adata_path = osp.join(Path(adata_directory).resolve(), \"adata_RPE.h5ad\")\n",
    "adata = sc.read_h5ad(adata_path)"
   ]
  },
  {
   "cell_type": "markdown",
   "id": "4ec9a965-86ff-49f3-8848-fbfd0f2b5e97",
   "metadata": {},
   "source": [
    "## Perform DELVE feature selection"
   ]
  },
  {
   "cell_type": "code",
   "execution_count": 4,
   "id": "9d5501d0-346a-4a01-a4bd-b00d8af3f2a4",
   "metadata": {},
   "outputs": [
    {
     "name": "stderr",
     "output_type": "stream",
     "text": [
      "performing subsampling: 100%|█████████████████████████████████████████████████████████████| 1/1 [00:02<00:00,  2.75s/it]\n",
      "clustering features and performing feature-wise permutation testing: 100%|██████████████| 10/10 [00:18<00:00,  1.82s/it]\n"
     ]
    }
   ],
   "source": [
    "n_selected = 30\n",
    "knn = 10\n",
    "trial = 0\n",
    "\n",
    "# feature_directory = os.path.join('../data', 'RPE', 'predicted_features')\n",
    "# delve_benchmark.pp.make_directory(feature_directory)\n",
    "schub.pp.delve(adata, knn=knn, use_rep=\"X\", n_clusters=5, num_subsamples=1000, random_state=10)\n",
    "# get the results from prediction\n",
    "delta_mean = adata.uns[\"delve\"][\"delta_mean\"]"
   ]
  },
  {
   "cell_type": "code",
   "execution_count": 5,
   "id": "7f3e7bc3-83c4-4cdf-ab32-00b986c05826",
   "metadata": {},
   "outputs": [
    {
     "data": {
      "text/html": [
       "<div>\n",
       "<style scoped>\n",
       "    .dataframe tbody tr th:only-of-type {\n",
       "        vertical-align: middle;\n",
       "    }\n",
       "\n",
       "    .dataframe tbody tr th {\n",
       "        vertical-align: top;\n",
       "    }\n",
       "\n",
       "    .dataframe thead th {\n",
       "        text-align: right;\n",
       "    }\n",
       "</style>\n",
       "<table border=\"1\" class=\"dataframe\">\n",
       "  <thead>\n",
       "    <tr style=\"text-align: right;\">\n",
       "      <th></th>\n",
       "      <th>delve</th>\n",
       "      <th>delve_cluster_id</th>\n",
       "      <th>delve_cluster_permutation_pval</th>\n",
       "    </tr>\n",
       "  </thead>\n",
       "  <tbody>\n",
       "    <tr>\n",
       "      <th>Int_MeanEdge_AKT_cell</th>\n",
       "      <td>0.850076</td>\n",
       "      <td>static</td>\n",
       "      <td>0.807692</td>\n",
       "    </tr>\n",
       "    <tr>\n",
       "      <th>Int_MeanEdge_BP1_cell</th>\n",
       "      <td>0.937886</td>\n",
       "      <td>static</td>\n",
       "      <td>0.999001</td>\n",
       "    </tr>\n",
       "    <tr>\n",
       "      <th>Int_MeanEdge_Bcl2_cell</th>\n",
       "      <td>0.937740</td>\n",
       "      <td>static</td>\n",
       "      <td>0.999001</td>\n",
       "    </tr>\n",
       "    <tr>\n",
       "      <th>Int_MeanEdge_CDK2_cell</th>\n",
       "      <td>0.709052</td>\n",
       "      <td>static</td>\n",
       "      <td>0.717283</td>\n",
       "    </tr>\n",
       "    <tr>\n",
       "      <th>Int_MeanEdge_CDK4_cell</th>\n",
       "      <td>0.855912</td>\n",
       "      <td>static</td>\n",
       "      <td>0.999001</td>\n",
       "    </tr>\n",
       "  </tbody>\n",
       "</table>\n",
       "</div>"
      ],
      "text/plain": [
       "                           delve delve_cluster_id  \\\n",
       "Int_MeanEdge_AKT_cell   0.850076           static   \n",
       "Int_MeanEdge_BP1_cell   0.937886           static   \n",
       "Int_MeanEdge_Bcl2_cell  0.937740           static   \n",
       "Int_MeanEdge_CDK2_cell  0.709052           static   \n",
       "Int_MeanEdge_CDK4_cell  0.855912           static   \n",
       "\n",
       "                        delve_cluster_permutation_pval  \n",
       "Int_MeanEdge_AKT_cell                         0.807692  \n",
       "Int_MeanEdge_BP1_cell                         0.999001  \n",
       "Int_MeanEdge_Bcl2_cell                        0.999001  \n",
       "Int_MeanEdge_CDK2_cell                        0.717283  \n",
       "Int_MeanEdge_CDK4_cell                        0.999001  "
      ]
     },
     "execution_count": 5,
     "metadata": {},
     "output_type": "execute_result"
    }
   ],
   "source": [
    "# adata.var shows the results of delve, including the `module` and\n",
    "# `delve` column is the Laplacian score of each gene, the smaller of this value, the better the feature\n",
    "adata.var.head()"
   ]
  },
  {
   "cell_type": "markdown",
   "id": "3e4bfa29-290f-44b8-883d-59903e932bef",
   "metadata": {},
   "source": [
    "## Selected Cell Cycle related Genes"
   ]
  },
  {
   "cell_type": "code",
   "execution_count": 6,
   "id": "1edd0dd8-1c90-413d-ade7-cd69a1d8cbc8",
   "metadata": {},
   "outputs": [
    {
     "name": "stdout",
     "output_type": "stream",
     "text": [
      "['Int_Med_cycA_nuc', 'Int_Med_cycB1_cyto', 'Int_Med_cycB1_ring', 'Int_Med_cycB1_cell', 'Int_Med_Skp2_nuc', 'Int_Med_pRB_nuc', 'Int_Std_PCNA_nuc', 'Int_Intg_DNA_nuc', 'Int_MeanEdge_cycB1_cell', 'Int_Med_CDK2_nuc', 'Int_Med_pH2AX_nuc', 'Int_Med_cycB1_nuc', 'Int_Med_p21_nuc', 'Int_Med_E2F1_nuc', 'Int_Med_cycA_cyto', 'Int_Med_cycA_ring', 'Int_Med_RB_nuc', 'AreaShape_Area_nuc', 'Int_Med_pp65_nuc', 'Int_Med_cycA_cell', 'Int_Med_cycD1_nuc', 'Int_Med_GSK3b_nuc', 'Int_Med_pp53_nuc', 'Int_Med_Cdh1_nuc', 'Int_Med_Cdt1_nuc', 'Int_Med_pCHK1_nuc', 'Int_Med_p38_nuc', 'Int_Med_p27_nuc', 'Int_Med_cMyc_nuc', 'Int_Med_pp38_nuc']\n"
     ]
    }
   ],
   "source": [
    "# show the most important 30 genes\n",
    "selected_genes = adata.var['delve'].nsmallest(n_selected).index.tolist()\n",
    "print(selected_genes)"
   ]
  },
  {
   "cell_type": "markdown",
   "id": "14b66973-c254-47be-addd-c67cd93ed300",
   "metadata": {},
   "source": [
    "From the selected gene list above, we can easily find that the most important ones are all cell cycle related."
   ]
  },
  {
   "cell_type": "code",
   "execution_count": null,
   "id": "3063703a-945d-4427-a2b1-22dee7ec687a",
   "metadata": {},
   "outputs": [],
   "source": []
  }
 ],
 "metadata": {
  "kernelspec": {
   "display_name": "Python 3 (ipykernel)",
   "language": "python",
   "name": "python3"
  },
  "language_info": {
   "codemirror_mode": {
    "name": "ipython",
    "version": 3
   },
   "file_extension": ".py",
   "mimetype": "text/x-python",
   "name": "python",
   "nbconvert_exporter": "python",
   "pygments_lexer": "ipython3",
   "version": "3.9.18"
  }
 },
 "nbformat": 4,
 "nbformat_minor": 5
}
